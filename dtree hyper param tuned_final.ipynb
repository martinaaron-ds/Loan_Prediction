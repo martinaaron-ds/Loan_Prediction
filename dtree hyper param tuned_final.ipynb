{
 "cells": [
  {
   "cell_type": "code",
   "execution_count": 1,
   "id": "bdd3e452",
   "metadata": {},
   "outputs": [],
   "source": [
    "import numpy as np\n",
    "import pandas as pd\n",
    "import matplotlib.pyplot as plt\n",
    "%matplotlib inline\n",
    "import seaborn as sns\n",
    "import scipy.stats as stats\n",
    "from sklearn.model_selection import train_test_split\n",
    "from sklearn.preprocessing import LabelBinarizer,OrdinalEncoder\n",
    "from xverse.transformer import WOE\n",
    "from sklearn.preprocessing import StandardScaler\n",
    "from sklearn.preprocessing import PowerTransformer\n",
    "from sklearn.experimental import enable_iterative_imputer\n",
    "from sklearn.impute import IterativeImputer\n",
    "\n",
    "from sklearn.neighbors import KNeighborsRegressor\n",
    "from sklearn.ensemble import RandomForestRegressor\n",
    "from sklearn.ensemble import RandomForestClassifier\n",
    "from sklearn.tree import DecisionTreeClassifier\n",
    "from xgboost import XGBClassifier\n",
    "from sklearn.metrics import classification_report, confusion_matrix, roc_auc_score, roc_curve, plot_confusion_matrix\n",
    "\n",
    "from imblearn.over_sampling import SMOTE\n",
    "from sklearn.naive_bayes import GaussianNB\n",
    "from sklearn.naive_bayes import MultinomialNB\n",
    "from sklearn.model_selection import GridSearchCV\n",
    "import warnings \n",
    "warnings.filterwarnings(\"ignore\")\n",
    "plt.rcParams['figure.figsize']=[15,8]"
   ]
  },
  {
   "cell_type": "code",
   "execution_count": 2,
   "id": "ef4d3c1a",
   "metadata": {},
   "outputs": [],
   "source": [
    "from sklearn.linear_model import LogisticRegression\n",
    "from sklearn.ensemble import StackingClassifier\n",
    "from sklearn.model_selection import cross_val_score"
   ]
  },
  {
   "cell_type": "code",
   "execution_count": 3,
   "id": "0a17aa59",
   "metadata": {},
   "outputs": [
    {
     "data": {
      "text/plain": [
       "((52270, 37), (13068, 37))"
      ]
     },
     "execution_count": 3,
     "metadata": {},
     "output_type": "execute_result"
    }
   ],
   "source": [
    "xtrain = pd.read_csv(\"xtrain_final.csv\")\n",
    "xtest = pd.read_csv(\"xtest_final.csv\")\n",
    "ytrain = pd.read_csv(\"ytrain_final.csv\")\n",
    "ytest = pd.read_csv(\"ytest_final.csv\")\n",
    "\n"
   ]
  },
  {
   "cell_type": "code",
   "execution_count": 4,
   "id": "9ba3c9dc",
   "metadata": {
    "scrolled": true
   },
   "outputs": [
    {
     "data": {
      "text/html": [
       "<div>\n",
       "<style scoped>\n",
       "    .dataframe tbody tr th:only-of-type {\n",
       "        vertical-align: middle;\n",
       "    }\n",
       "\n",
       "    .dataframe tbody tr th {\n",
       "        vertical-align: top;\n",
       "    }\n",
       "\n",
       "    .dataframe thead th {\n",
       "        text-align: right;\n",
       "    }\n",
       "</style>\n",
       "<table border=\"1\" class=\"dataframe\">\n",
       "  <thead>\n",
       "    <tr style=\"text-align: right;\">\n",
       "      <th></th>\n",
       "      <th>Gender</th>\n",
       "      <th>Contacted</th>\n",
       "      <th>Primary_Bank_Type</th>\n",
       "      <th>City_Category_B</th>\n",
       "      <th>City_Category_C</th>\n",
       "      <th>Employer_Category1_B</th>\n",
       "      <th>Employer_Category1_C</th>\n",
       "      <th>Source_Category_B</th>\n",
       "      <th>Source_Category_C</th>\n",
       "      <th>Source_Category_D</th>\n",
       "      <th>Source_Category_E</th>\n",
       "      <th>Source_Category_F</th>\n",
       "      <th>Source_Category_G</th>\n",
       "      <th>Age_Cat_Middle-Aged</th>\n",
       "      <th>Age_Cat_Old</th>\n",
       "      <th>Age_Cat_Young</th>\n",
       "      <th>Employer_Cat3_MSF</th>\n",
       "      <th>Employer_Cat3_MSME</th>\n",
       "      <th>Employer_Cat3_PVT</th>\n",
       "      <th>Employer_Cat3_VSF</th>\n",
       "      <th>Employer_Category2</th>\n",
       "      <th>Var1</th>\n",
       "      <th>Lead_Creation_Month</th>\n",
       "      <th>City_Code</th>\n",
       "      <th>Source</th>\n",
       "      <th>Monthly_Income</th>\n",
       "      <th>Existing_EMI</th>\n",
       "      <th>Loan_Amount</th>\n",
       "      <th>Loan_Period</th>\n",
       "      <th>Interest_Rate</th>\n",
       "      <th>loan_period_months</th>\n",
       "      <th>emi_recal</th>\n",
       "      <th>EMI-Monthly_Income_Ratio</th>\n",
       "      <th>Income_loan_Ratio</th>\n",
       "      <th>IR_15-20</th>\n",
       "      <th>IR_20-25</th>\n",
       "      <th>IR_25+</th>\n",
       "    </tr>\n",
       "  </thead>\n",
       "  <tbody>\n",
       "    <tr>\n",
       "      <th>0</th>\n",
       "      <td>0</td>\n",
       "      <td>0</td>\n",
       "      <td>0</td>\n",
       "      <td>0</td>\n",
       "      <td>0</td>\n",
       "      <td>0</td>\n",
       "      <td>0</td>\n",
       "      <td>0</td>\n",
       "      <td>1</td>\n",
       "      <td>0</td>\n",
       "      <td>0</td>\n",
       "      <td>0</td>\n",
       "      <td>0</td>\n",
       "      <td>0</td>\n",
       "      <td>0</td>\n",
       "      <td>1</td>\n",
       "      <td>0</td>\n",
       "      <td>0</td>\n",
       "      <td>0</td>\n",
       "      <td>1</td>\n",
       "      <td>4</td>\n",
       "      <td>0</td>\n",
       "      <td>7</td>\n",
       "      <td>0.148588</td>\n",
       "      <td>0.059791</td>\n",
       "      <td>1680.0</td>\n",
       "      <td>0.0</td>\n",
       "      <td>19600</td>\n",
       "      <td>3.4</td>\n",
       "      <td>18.040</td>\n",
       "      <td>40.8</td>\n",
       "      <td>646</td>\n",
       "      <td>0.384524</td>\n",
       "      <td>0.879263</td>\n",
       "      <td>1</td>\n",
       "      <td>0</td>\n",
       "      <td>0</td>\n",
       "    </tr>\n",
       "    <tr>\n",
       "      <th>1</th>\n",
       "      <td>1</td>\n",
       "      <td>1</td>\n",
       "      <td>1</td>\n",
       "      <td>1</td>\n",
       "      <td>0</td>\n",
       "      <td>0</td>\n",
       "      <td>0</td>\n",
       "      <td>0</td>\n",
       "      <td>1</td>\n",
       "      <td>0</td>\n",
       "      <td>0</td>\n",
       "      <td>0</td>\n",
       "      <td>0</td>\n",
       "      <td>1</td>\n",
       "      <td>0</td>\n",
       "      <td>0</td>\n",
       "      <td>0</td>\n",
       "      <td>0</td>\n",
       "      <td>0</td>\n",
       "      <td>1</td>\n",
       "      <td>4</td>\n",
       "      <td>2</td>\n",
       "      <td>5</td>\n",
       "      <td>-0.267721</td>\n",
       "      <td>0.059791</td>\n",
       "      <td>1350.0</td>\n",
       "      <td>0.0</td>\n",
       "      <td>30000</td>\n",
       "      <td>5.0</td>\n",
       "      <td>20.000</td>\n",
       "      <td>60.0</td>\n",
       "      <td>795</td>\n",
       "      <td>0.588889</td>\n",
       "      <td>1.597424</td>\n",
       "      <td>1</td>\n",
       "      <td>0</td>\n",
       "      <td>0</td>\n",
       "    </tr>\n",
       "    <tr>\n",
       "      <th>2</th>\n",
       "      <td>0</td>\n",
       "      <td>0</td>\n",
       "      <td>1</td>\n",
       "      <td>0</td>\n",
       "      <td>0</td>\n",
       "      <td>0</td>\n",
       "      <td>1</td>\n",
       "      <td>1</td>\n",
       "      <td>0</td>\n",
       "      <td>0</td>\n",
       "      <td>0</td>\n",
       "      <td>0</td>\n",
       "      <td>0</td>\n",
       "      <td>1</td>\n",
       "      <td>0</td>\n",
       "      <td>0</td>\n",
       "      <td>0</td>\n",
       "      <td>1</td>\n",
       "      <td>0</td>\n",
       "      <td>0</td>\n",
       "      <td>1</td>\n",
       "      <td>10</td>\n",
       "      <td>7</td>\n",
       "      <td>0.148588</td>\n",
       "      <td>0.059791</td>\n",
       "      <td>5200.0</td>\n",
       "      <td>0.0</td>\n",
       "      <td>90000</td>\n",
       "      <td>4.4</td>\n",
       "      <td>15.108</td>\n",
       "      <td>52.8</td>\n",
       "      <td>2344</td>\n",
       "      <td>0.450769</td>\n",
       "      <td>1.266409</td>\n",
       "      <td>1</td>\n",
       "      <td>0</td>\n",
       "      <td>0</td>\n",
       "    </tr>\n",
       "    <tr>\n",
       "      <th>3</th>\n",
       "      <td>0</td>\n",
       "      <td>0</td>\n",
       "      <td>1</td>\n",
       "      <td>0</td>\n",
       "      <td>1</td>\n",
       "      <td>0</td>\n",
       "      <td>0</td>\n",
       "      <td>1</td>\n",
       "      <td>0</td>\n",
       "      <td>0</td>\n",
       "      <td>0</td>\n",
       "      <td>0</td>\n",
       "      <td>0</td>\n",
       "      <td>0</td>\n",
       "      <td>0</td>\n",
       "      <td>1</td>\n",
       "      <td>0</td>\n",
       "      <td>0</td>\n",
       "      <td>0</td>\n",
       "      <td>1</td>\n",
       "      <td>4</td>\n",
       "      <td>0</td>\n",
       "      <td>12</td>\n",
       "      <td>-0.267721</td>\n",
       "      <td>-0.279869</td>\n",
       "      <td>1500.0</td>\n",
       "      <td>0.0</td>\n",
       "      <td>22000</td>\n",
       "      <td>4.0</td>\n",
       "      <td>35.500</td>\n",
       "      <td>48.0</td>\n",
       "      <td>864</td>\n",
       "      <td>0.576000</td>\n",
       "      <td>1.085929</td>\n",
       "      <td>0</td>\n",
       "      <td>0</td>\n",
       "      <td>1</td>\n",
       "    </tr>\n",
       "    <tr>\n",
       "      <th>4</th>\n",
       "      <td>1</td>\n",
       "      <td>1</td>\n",
       "      <td>1</td>\n",
       "      <td>0</td>\n",
       "      <td>0</td>\n",
       "      <td>0</td>\n",
       "      <td>0</td>\n",
       "      <td>1</td>\n",
       "      <td>0</td>\n",
       "      <td>0</td>\n",
       "      <td>0</td>\n",
       "      <td>0</td>\n",
       "      <td>0</td>\n",
       "      <td>1</td>\n",
       "      <td>0</td>\n",
       "      <td>0</td>\n",
       "      <td>0</td>\n",
       "      <td>0</td>\n",
       "      <td>0</td>\n",
       "      <td>1</td>\n",
       "      <td>4</td>\n",
       "      <td>2</td>\n",
       "      <td>7</td>\n",
       "      <td>0.034822</td>\n",
       "      <td>0.059791</td>\n",
       "      <td>1500.0</td>\n",
       "      <td>600.0</td>\n",
       "      <td>11000</td>\n",
       "      <td>5.0</td>\n",
       "      <td>20.000</td>\n",
       "      <td>60.0</td>\n",
       "      <td>291</td>\n",
       "      <td>0.594000</td>\n",
       "      <td>0.527150</td>\n",
       "      <td>1</td>\n",
       "      <td>0</td>\n",
       "      <td>0</td>\n",
       "    </tr>\n",
       "  </tbody>\n",
       "</table>\n",
       "</div>"
      ],
      "text/plain": [
       "   Gender  Contacted  Primary_Bank_Type  City_Category_B  City_Category_C  \\\n",
       "0       0          0                  0                0                0   \n",
       "1       1          1                  1                1                0   \n",
       "2       0          0                  1                0                0   \n",
       "3       0          0                  1                0                1   \n",
       "4       1          1                  1                0                0   \n",
       "\n",
       "   Employer_Category1_B  Employer_Category1_C  Source_Category_B  \\\n",
       "0                     0                     0                  0   \n",
       "1                     0                     0                  0   \n",
       "2                     0                     1                  1   \n",
       "3                     0                     0                  1   \n",
       "4                     0                     0                  1   \n",
       "\n",
       "   Source_Category_C  Source_Category_D  Source_Category_E  Source_Category_F  \\\n",
       "0                  1                  0                  0                  0   \n",
       "1                  1                  0                  0                  0   \n",
       "2                  0                  0                  0                  0   \n",
       "3                  0                  0                  0                  0   \n",
       "4                  0                  0                  0                  0   \n",
       "\n",
       "   Source_Category_G  Age_Cat_Middle-Aged  Age_Cat_Old  Age_Cat_Young  \\\n",
       "0                  0                    0            0              1   \n",
       "1                  0                    1            0              0   \n",
       "2                  0                    1            0              0   \n",
       "3                  0                    0            0              1   \n",
       "4                  0                    1            0              0   \n",
       "\n",
       "   Employer_Cat3_MSF  Employer_Cat3_MSME  Employer_Cat3_PVT  \\\n",
       "0                  0                   0                  0   \n",
       "1                  0                   0                  0   \n",
       "2                  0                   1                  0   \n",
       "3                  0                   0                  0   \n",
       "4                  0                   0                  0   \n",
       "\n",
       "   Employer_Cat3_VSF  Employer_Category2  Var1  Lead_Creation_Month  \\\n",
       "0                  1                   4     0                    7   \n",
       "1                  1                   4     2                    5   \n",
       "2                  0                   1    10                    7   \n",
       "3                  1                   4     0                   12   \n",
       "4                  1                   4     2                    7   \n",
       "\n",
       "   City_Code    Source  Monthly_Income  Existing_EMI  Loan_Amount  \\\n",
       "0   0.148588  0.059791          1680.0           0.0        19600   \n",
       "1  -0.267721  0.059791          1350.0           0.0        30000   \n",
       "2   0.148588  0.059791          5200.0           0.0        90000   \n",
       "3  -0.267721 -0.279869          1500.0           0.0        22000   \n",
       "4   0.034822  0.059791          1500.0         600.0        11000   \n",
       "\n",
       "   Loan_Period  Interest_Rate  loan_period_months  emi_recal  \\\n",
       "0          3.4         18.040                40.8        646   \n",
       "1          5.0         20.000                60.0        795   \n",
       "2          4.4         15.108                52.8       2344   \n",
       "3          4.0         35.500                48.0        864   \n",
       "4          5.0         20.000                60.0        291   \n",
       "\n",
       "   EMI-Monthly_Income_Ratio  Income_loan_Ratio  IR_15-20  IR_20-25  IR_25+  \n",
       "0                  0.384524           0.879263         1         0       0  \n",
       "1                  0.588889           1.597424         1         0       0  \n",
       "2                  0.450769           1.266409         1         0       0  \n",
       "3                  0.576000           1.085929         0         0       1  \n",
       "4                  0.594000           0.527150         1         0       0  "
      ]
     },
     "execution_count": 4,
     "metadata": {},
     "output_type": "execute_result"
    }
   ],
   "source": [
    "pd.options.display.max_columns = None\n",
    "\n",
    "xtrain.head()\n",
    "\n"
   ]
  },
  {
   "cell_type": "code",
   "execution_count": 15,
   "id": "a5ae6bd0",
   "metadata": {},
   "outputs": [
    {
     "data": {
      "text/plain": [
       "((52270, 39), (13068, 39))"
      ]
     },
     "execution_count": 15,
     "metadata": {},
     "output_type": "execute_result"
    }
   ],
   "source": [
    "xtrain.shape,xtest.shape"
   ]
  },
  {
   "cell_type": "code",
   "execution_count": 26,
   "id": "181dca64",
   "metadata": {},
   "outputs": [],
   "source": [
    "tuning_params={'criterion':['gini','entropy'],'class_weight':['balanced'],'max_depth':list(np.arange(4,20,2)),\n",
    "    'min_samples_split':list(np.arange(50,1500,50)),\n",
    "    'max_features':list(np.arange(5,40,2))}\n",
    "\n"
   ]
  },
  {
   "cell_type": "code",
   "execution_count": 27,
   "id": "6968be39",
   "metadata": {},
   "outputs": [],
   "source": [
    "GRID_MOD=GridSearchCV(estimator=DecisionTreeClassifier(),param_grid=tuning_params,scoring='roc_auc',cv=5)\n"
   ]
  },
  {
   "cell_type": "code",
   "execution_count": 28,
   "id": "a380ba5e",
   "metadata": {
    "scrolled": true
   },
   "outputs": [
    {
     "data": {
      "text/plain": [
       "GridSearchCV(cv=5, estimator=DecisionTreeClassifier(),\n",
       "             param_grid={'class_weight': ['balanced'],\n",
       "                         'criterion': ['gini', 'entropy'],\n",
       "                         'max_depth': [4, 6, 8, 10, 12, 14, 16, 18],\n",
       "                         'max_features': [5, 7, 9, 11, 13, 15, 17, 19, 21, 23,\n",
       "                                          25, 27, 29, 31, 33, 35, 37, 39],\n",
       "                         'min_samples_split': [50, 100, 150, 200, 250, 300, 350,\n",
       "                                               400, 450, 500, 550, 600, 650,\n",
       "                                               700, 750, 800, 850, 900, 950,\n",
       "                                               1000, 1050, 1100, 1150, 1200,\n",
       "                                               1250, 1300, 1350, 1400, 1450]},\n",
       "             scoring='roc_auc')"
      ]
     },
     "execution_count": 28,
     "metadata": {},
     "output_type": "execute_result"
    }
   ],
   "source": [
    "GRID_MOD.fit(xtrain,ytrain)\n",
    "\n"
   ]
  },
  {
   "cell_type": "code",
   "execution_count": 31,
   "id": "fce73b15",
   "metadata": {},
   "outputs": [
    {
     "data": {
      "text/plain": [
       "{'class_weight': 'balanced',\n",
       " 'criterion': 'entropy',\n",
       " 'max_depth': 8,\n",
       " 'max_features': 15,\n",
       " 'min_samples_split': 1250}"
      ]
     },
     "execution_count": 31,
     "metadata": {},
     "output_type": "execute_result"
    }
   ],
   "source": [
    "GRID_MOD.best_params_"
   ]
  },
  {
   "cell_type": "code",
   "execution_count": 32,
   "id": "6ce54022",
   "metadata": {},
   "outputs": [],
   "source": [
    "dtree=DecisionTreeClassifier(class_weight=GRID_MOD.best_params_.get('class_weight'),criterion=GRID_MOD.best_params_.get('criterion'),max_depth=GRID_MOD.best_params_.get('max_depth'),max_features=GRID_MOD.best_params_.get('max_features'),min_samples_split=GRID_MOD.best_params_.get('min_samples_split'))"
   ]
  },
  {
   "cell_type": "code",
   "execution_count": 33,
   "id": "37d484fd",
   "metadata": {},
   "outputs": [
    {
     "data": {
      "text/plain": [
       "(0.6775779605892481, 0.6818947046219773)"
      ]
     },
     "execution_count": 33,
     "metadata": {},
     "output_type": "execute_result"
    }
   ],
   "source": [
    "dtree.fit(xtrain, ytrain)\n",
    "dtree.score(xtrain, ytrain), dtree.score(xtest, ytest)"
   ]
  },
  {
   "cell_type": "code",
   "execution_count": 37,
   "id": "18ad2670",
   "metadata": {},
   "outputs": [
    {
     "name": "stdout",
     "output_type": "stream",
     "text": [
      "[[34714 16742]\n",
      " [  111   703]]\n",
      "              precision    recall  f1-score   support\n",
      "\n",
      "           0       1.00      0.67      0.80     51456\n",
      "           1       0.04      0.86      0.08       814\n",
      "\n",
      "    accuracy                           0.68     52270\n",
      "   macro avg       0.52      0.77      0.44     52270\n",
      "weighted avg       0.98      0.68      0.79     52270\n",
      "\n",
      "[[8756 4111]\n",
      " [  46  155]]\n",
      "              precision    recall  f1-score   support\n",
      "\n",
      "           0       0.99      0.68      0.81     12867\n",
      "           1       0.04      0.77      0.07       201\n",
      "\n",
      "    accuracy                           0.68     13068\n",
      "   macro avg       0.52      0.73      0.44     13068\n",
      "weighted avg       0.98      0.68      0.80     13068\n",
      "\n"
     ]
    }
   ],
   "source": [
    "ypred_train_dt = dtree.predict(xtrain)\n",
    "print(confusion_matrix(ytrain, ypred_train_dt))\n",
    "print(classification_report(ytrain, ypred_train_dt))\n",
    "\n",
    "ypred_test_dt = dtree.predict(xtest)\n",
    "print(confusion_matrix(ytest, ypred_test_dt))\n",
    "print(classification_report(ytest, ypred_test_dt))"
   ]
  },
  {
   "cell_type": "code",
   "execution_count": 41,
   "id": "2a6edbdb",
   "metadata": {},
   "outputs": [],
   "source": [
    "%matplotlib inline"
   ]
  },
  {
   "cell_type": "code",
   "execution_count": 42,
   "id": "e7740efe",
   "metadata": {},
   "outputs": [
    {
     "data": {
      "image/png": "[encoded data removed]",
      "text/plain": [
       "<Figure size 1080x1080 with 1 Axes>"
      ]
     },
     "metadata": {
      "needs_background": "light"
     },
     "output_type": "display_data"
    }
   ],
   "source": [
    "plt.rcParams['figure.figsize']=[15,15]\n",
    "pd.DataFrame({'Features':xtrain.columns,'Importance':dtree.feature_importances_}).sort_values(by='Importance',ascending=False).set_index('Features').plot(kind='barh')\n",
    "plt.show()"
   ]
  },
  {
   "cell_type": "code",
   "execution_count": 43,
   "id": "779e07c3",
   "metadata": {},
   "outputs": [
    {
     "data": {
      "image/png": "[encoded data removed]",
      "text/plain": [
       "<Figure size 1080x1080 with 1 Axes>"
      ]
     },
     "metadata": {
      "needs_background": "light"
     },
     "output_type": "display_data"
    }
   ],
   "source": [
    "import sklearn.metrics as metrics\n",
    "probs = dtree.predict_proba(xtest)\n",
    "preds = probs[:,1]\n",
    "fpr, tpr, threshold = metrics.roc_curve(ytest, preds)\n",
    "roc_auc = metrics.auc(fpr, tpr)\n",
    "\n",
    "# method I: plt\n",
    "import matplotlib.pyplot as plt\n",
    "plt.title('Receiver Operating Characteristic')\n",
    "plt.plot(fpr, tpr, 'b', label = 'AUC = %0.2f' % roc_auc)\n",
    "plt.legend(loc = 'lower right')\n",
    "plt.plot([0, 1], [0, 1],'r--')\n",
    "plt.xlim([0, 1])\n",
    "plt.ylim([0, 1])\n",
    "plt.ylabel('True Positive Rate')\n",
    "plt.xlabel('False Positive Rate')\n",
    "plt.show()"
   ]
  },
  {
   "cell_type": "code",
   "execution_count": null,
   "id": "be26f59e",
   "metadata": {},
   "outputs": [],
   "source": []
  },
  {
   "cell_type": "code",
   "execution_count": null,
   "id": "12f52ec1",
   "metadata": {},
   "outputs": [],
   "source": []
  },
  {
   "cell_type": "code",
   "execution_count": null,
   "id": "5d942558",
   "metadata": {},
   "outputs": [],
   "source": []
  }
 ],
 "metadata": {
  "kernelspec": {
   "display_name": "Python 3",
   "language": "python",
   "name": "python3"
  },
  "language_info": {
   "codemirror_mode": {
    "name": "ipython",
    "version": 3
   },
   "file_extension": ".py",
   "mimetype": "text/x-python",
   "name": "python",
   "nbconvert_exporter": "python",
   "pygments_lexer": "ipython3",
   "version": "3.8.8"
  }
 },
 "nbformat": 4,
 "nbformat_minor": 5
}
